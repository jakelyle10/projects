{
  "nbformat": 4,
  "nbformat_minor": 0,
  "metadata": {
    "colab": {
      "provenance": []
    },
    "kernelspec": {
      "name": "python3",
      "display_name": "Python 3"
    },
    "language_info": {
      "name": "python"
    }
  },
  "cells": [
    {
      "cell_type": "markdown",
      "source": [
        "Import dataset from kaggle <br>\n",
        "File location: https://www.kaggle.com/datasets/laotse/credit-risk-dataset"
      ],
      "metadata": {
        "id": "HOU-5Zp_Sv-S"
      }
    },
    {
      "cell_type": "code",
      "source": [
        "import pandas as pd\n",
        "import numpy as np\n",
        "from collections import Counter\n",
        "import matplotlib.pyplot as plt"
      ],
      "metadata": {
        "id": "n53leaztVB4R"
      },
      "execution_count": null,
      "outputs": []
    },
    {
      "cell_type": "code",
      "source": [
        "data = pd.read_csv('drive/MyDrive/credit_risk_dataset.csv')"
      ],
      "metadata": {
        "id": "0tDO1Z_-Szq2"
      },
      "execution_count": null,
      "outputs": []
    },
    {
      "cell_type": "code",
      "source": [
        "data.head()"
      ],
      "metadata": {
        "colab": {
          "base_uri": "https://localhost:8080/",
          "height": 226
        },
        "id": "XZYeDDoyV2hA",
        "outputId": "7d786e04-ad39-4821-fc78-3f616831abf7"
      },
      "execution_count": null,
      "outputs": [
        {
          "output_type": "execute_result",
          "data": {
            "text/plain": [
              "   person_age  person_income person_home_ownership  person_emp_length  \\\n",
              "0          22          59000                  RENT              123.0   \n",
              "1          21           9600                   OWN                5.0   \n",
              "2          25           9600              MORTGAGE                1.0   \n",
              "3          23          65500                  RENT                4.0   \n",
              "4          24          54400                  RENT                8.0   \n",
              "\n",
              "  loan_intent loan_grade  loan_amnt  loan_int_rate  loan_status  \\\n",
              "0    PERSONAL          D      35000          16.02            1   \n",
              "1   EDUCATION          B       1000          11.14            0   \n",
              "2     MEDICAL          C       5500          12.87            1   \n",
              "3     MEDICAL          C      35000          15.23            1   \n",
              "4     MEDICAL          C      35000          14.27            1   \n",
              "\n",
              "   loan_percent_income cb_person_default_on_file  cb_person_cred_hist_length  \n",
              "0                 0.59                         Y                           3  \n",
              "1                 0.10                         N                           2  \n",
              "2                 0.57                         N                           3  \n",
              "3                 0.53                         N                           2  \n",
              "4                 0.55                         Y                           4  "
            ],
            "text/html": [
              "\n",
              "  <div id=\"df-b59e0247-93f8-45aa-943a-93f8d0b7249f\" class=\"colab-df-container\">\n",
              "    <div>\n",
              "<style scoped>\n",
              "    .dataframe tbody tr th:only-of-type {\n",
              "        vertical-align: middle;\n",
              "    }\n",
              "\n",
              "    .dataframe tbody tr th {\n",
              "        vertical-align: top;\n",
              "    }\n",
              "\n",
              "    .dataframe thead th {\n",
              "        text-align: right;\n",
              "    }\n",
              "</style>\n",
              "<table border=\"1\" class=\"dataframe\">\n",
              "  <thead>\n",
              "    <tr style=\"text-align: right;\">\n",
              "      <th></th>\n",
              "      <th>person_age</th>\n",
              "      <th>person_income</th>\n",
              "      <th>person_home_ownership</th>\n",
              "      <th>person_emp_length</th>\n",
              "      <th>loan_intent</th>\n",
              "      <th>loan_grade</th>\n",
              "      <th>loan_amnt</th>\n",
              "      <th>loan_int_rate</th>\n",
              "      <th>loan_status</th>\n",
              "      <th>loan_percent_income</th>\n",
              "      <th>cb_person_default_on_file</th>\n",
              "      <th>cb_person_cred_hist_length</th>\n",
              "    </tr>\n",
              "  </thead>\n",
              "  <tbody>\n",
              "    <tr>\n",
              "      <th>0</th>\n",
              "      <td>22</td>\n",
              "      <td>59000</td>\n",
              "      <td>RENT</td>\n",
              "      <td>123.0</td>\n",
              "      <td>PERSONAL</td>\n",
              "      <td>D</td>\n",
              "      <td>35000</td>\n",
              "      <td>16.02</td>\n",
              "      <td>1</td>\n",
              "      <td>0.59</td>\n",
              "      <td>Y</td>\n",
              "      <td>3</td>\n",
              "    </tr>\n",
              "    <tr>\n",
              "      <th>1</th>\n",
              "      <td>21</td>\n",
              "      <td>9600</td>\n",
              "      <td>OWN</td>\n",
              "      <td>5.0</td>\n",
              "      <td>EDUCATION</td>\n",
              "      <td>B</td>\n",
              "      <td>1000</td>\n",
              "      <td>11.14</td>\n",
              "      <td>0</td>\n",
              "      <td>0.10</td>\n",
              "      <td>N</td>\n",
              "      <td>2</td>\n",
              "    </tr>\n",
              "    <tr>\n",
              "      <th>2</th>\n",
              "      <td>25</td>\n",
              "      <td>9600</td>\n",
              "      <td>MORTGAGE</td>\n",
              "      <td>1.0</td>\n",
              "      <td>MEDICAL</td>\n",
              "      <td>C</td>\n",
              "      <td>5500</td>\n",
              "      <td>12.87</td>\n",
              "      <td>1</td>\n",
              "      <td>0.57</td>\n",
              "      <td>N</td>\n",
              "      <td>3</td>\n",
              "    </tr>\n",
              "    <tr>\n",
              "      <th>3</th>\n",
              "      <td>23</td>\n",
              "      <td>65500</td>\n",
              "      <td>RENT</td>\n",
              "      <td>4.0</td>\n",
              "      <td>MEDICAL</td>\n",
              "      <td>C</td>\n",
              "      <td>35000</td>\n",
              "      <td>15.23</td>\n",
              "      <td>1</td>\n",
              "      <td>0.53</td>\n",
              "      <td>N</td>\n",
              "      <td>2</td>\n",
              "    </tr>\n",
              "    <tr>\n",
              "      <th>4</th>\n",
              "      <td>24</td>\n",
              "      <td>54400</td>\n",
              "      <td>RENT</td>\n",
              "      <td>8.0</td>\n",
              "      <td>MEDICAL</td>\n",
              "      <td>C</td>\n",
              "      <td>35000</td>\n",
              "      <td>14.27</td>\n",
              "      <td>1</td>\n",
              "      <td>0.55</td>\n",
              "      <td>Y</td>\n",
              "      <td>4</td>\n",
              "    </tr>\n",
              "  </tbody>\n",
              "</table>\n",
              "</div>\n",
              "    <div class=\"colab-df-buttons\">\n",
              "\n",
              "  <div class=\"colab-df-container\">\n",
              "    <button class=\"colab-df-convert\" onclick=\"convertToInteractive('df-b59e0247-93f8-45aa-943a-93f8d0b7249f')\"\n",
              "            title=\"Convert this dataframe to an interactive table.\"\n",
              "            style=\"display:none;\">\n",
              "\n",
              "  <svg xmlns=\"http://www.w3.org/2000/svg\" height=\"24px\" viewBox=\"0 -960 960 960\">\n",
              "    <path d=\"M120-120v-720h720v720H120Zm60-500h600v-160H180v160Zm220 220h160v-160H400v160Zm0 220h160v-160H400v160ZM180-400h160v-160H180v160Zm440 0h160v-160H620v160ZM180-180h160v-160H180v160Zm440 0h160v-160H620v160Z\"/>\n",
              "  </svg>\n",
              "    </button>\n",
              "\n",
              "  <style>\n",
              "    .colab-df-container {\n",
              "      display:flex;\n",
              "      gap: 12px;\n",
              "    }\n",
              "\n",
              "    .colab-df-convert {\n",
              "      background-color: #E8F0FE;\n",
              "      border: none;\n",
              "      border-radius: 50%;\n",
              "      cursor: pointer;\n",
              "      display: none;\n",
              "      fill: #1967D2;\n",
              "      height: 32px;\n",
              "      padding: 0 0 0 0;\n",
              "      width: 32px;\n",
              "    }\n",
              "\n",
              "    .colab-df-convert:hover {\n",
              "      background-color: #E2EBFA;\n",
              "      box-shadow: 0px 1px 2px rgba(60, 64, 67, 0.3), 0px 1px 3px 1px rgba(60, 64, 67, 0.15);\n",
              "      fill: #174EA6;\n",
              "    }\n",
              "\n",
              "    .colab-df-buttons div {\n",
              "      margin-bottom: 4px;\n",
              "    }\n",
              "\n",
              "    [theme=dark] .colab-df-convert {\n",
              "      background-color: #3B4455;\n",
              "      fill: #D2E3FC;\n",
              "    }\n",
              "\n",
              "    [theme=dark] .colab-df-convert:hover {\n",
              "      background-color: #434B5C;\n",
              "      box-shadow: 0px 1px 3px 1px rgba(0, 0, 0, 0.15);\n",
              "      filter: drop-shadow(0px 1px 2px rgba(0, 0, 0, 0.3));\n",
              "      fill: #FFFFFF;\n",
              "    }\n",
              "  </style>\n",
              "\n",
              "    <script>\n",
              "      const buttonEl =\n",
              "        document.querySelector('#df-b59e0247-93f8-45aa-943a-93f8d0b7249f button.colab-df-convert');\n",
              "      buttonEl.style.display =\n",
              "        google.colab.kernel.accessAllowed ? 'block' : 'none';\n",
              "\n",
              "      async function convertToInteractive(key) {\n",
              "        const element = document.querySelector('#df-b59e0247-93f8-45aa-943a-93f8d0b7249f');\n",
              "        const dataTable =\n",
              "          await google.colab.kernel.invokeFunction('convertToInteractive',\n",
              "                                                    [key], {});\n",
              "        if (!dataTable) return;\n",
              "\n",
              "        const docLinkHtml = 'Like what you see? Visit the ' +\n",
              "          '<a target=\"_blank\" href=https://colab.research.google.com/notebooks/data_table.ipynb>data table notebook</a>'\n",
              "          + ' to learn more about interactive tables.';\n",
              "        element.innerHTML = '';\n",
              "        dataTable['output_type'] = 'display_data';\n",
              "        await google.colab.output.renderOutput(dataTable, element);\n",
              "        const docLink = document.createElement('div');\n",
              "        docLink.innerHTML = docLinkHtml;\n",
              "        element.appendChild(docLink);\n",
              "      }\n",
              "    </script>\n",
              "  </div>\n",
              "\n",
              "\n",
              "<div id=\"df-af12bf32-1cf8-4e0c-b700-063099ccaee2\">\n",
              "  <button class=\"colab-df-quickchart\" onclick=\"quickchart('df-af12bf32-1cf8-4e0c-b700-063099ccaee2')\"\n",
              "            title=\"Suggest charts.\"\n",
              "            style=\"display:none;\">\n",
              "\n",
              "<svg xmlns=\"http://www.w3.org/2000/svg\" height=\"24px\"viewBox=\"0 0 24 24\"\n",
              "     width=\"24px\">\n",
              "    <g>\n",
              "        <path d=\"M19 3H5c-1.1 0-2 .9-2 2v14c0 1.1.9 2 2 2h14c1.1 0 2-.9 2-2V5c0-1.1-.9-2-2-2zM9 17H7v-7h2v7zm4 0h-2V7h2v10zm4 0h-2v-4h2v4z\"/>\n",
              "    </g>\n",
              "</svg>\n",
              "  </button>\n",
              "\n",
              "<style>\n",
              "  .colab-df-quickchart {\n",
              "      --bg-color: #E8F0FE;\n",
              "      --fill-color: #1967D2;\n",
              "      --hover-bg-color: #E2EBFA;\n",
              "      --hover-fill-color: #174EA6;\n",
              "      --disabled-fill-color: #AAA;\n",
              "      --disabled-bg-color: #DDD;\n",
              "  }\n",
              "\n",
              "  [theme=dark] .colab-df-quickchart {\n",
              "      --bg-color: #3B4455;\n",
              "      --fill-color: #D2E3FC;\n",
              "      --hover-bg-color: #434B5C;\n",
              "      --hover-fill-color: #FFFFFF;\n",
              "      --disabled-bg-color: #3B4455;\n",
              "      --disabled-fill-color: #666;\n",
              "  }\n",
              "\n",
              "  .colab-df-quickchart {\n",
              "    background-color: var(--bg-color);\n",
              "    border: none;\n",
              "    border-radius: 50%;\n",
              "    cursor: pointer;\n",
              "    display: none;\n",
              "    fill: var(--fill-color);\n",
              "    height: 32px;\n",
              "    padding: 0;\n",
              "    width: 32px;\n",
              "  }\n",
              "\n",
              "  .colab-df-quickchart:hover {\n",
              "    background-color: var(--hover-bg-color);\n",
              "    box-shadow: 0 1px 2px rgba(60, 64, 67, 0.3), 0 1px 3px 1px rgba(60, 64, 67, 0.15);\n",
              "    fill: var(--button-hover-fill-color);\n",
              "  }\n",
              "\n",
              "  .colab-df-quickchart-complete:disabled,\n",
              "  .colab-df-quickchart-complete:disabled:hover {\n",
              "    background-color: var(--disabled-bg-color);\n",
              "    fill: var(--disabled-fill-color);\n",
              "    box-shadow: none;\n",
              "  }\n",
              "\n",
              "  .colab-df-spinner {\n",
              "    border: 2px solid var(--fill-color);\n",
              "    border-color: transparent;\n",
              "    border-bottom-color: var(--fill-color);\n",
              "    animation:\n",
              "      spin 1s steps(1) infinite;\n",
              "  }\n",
              "\n",
              "  @keyframes spin {\n",
              "    0% {\n",
              "      border-color: transparent;\n",
              "      border-bottom-color: var(--fill-color);\n",
              "      border-left-color: var(--fill-color);\n",
              "    }\n",
              "    20% {\n",
              "      border-color: transparent;\n",
              "      border-left-color: var(--fill-color);\n",
              "      border-top-color: var(--fill-color);\n",
              "    }\n",
              "    30% {\n",
              "      border-color: transparent;\n",
              "      border-left-color: var(--fill-color);\n",
              "      border-top-color: var(--fill-color);\n",
              "      border-right-color: var(--fill-color);\n",
              "    }\n",
              "    40% {\n",
              "      border-color: transparent;\n",
              "      border-right-color: var(--fill-color);\n",
              "      border-top-color: var(--fill-color);\n",
              "    }\n",
              "    60% {\n",
              "      border-color: transparent;\n",
              "      border-right-color: var(--fill-color);\n",
              "    }\n",
              "    80% {\n",
              "      border-color: transparent;\n",
              "      border-right-color: var(--fill-color);\n",
              "      border-bottom-color: var(--fill-color);\n",
              "    }\n",
              "    90% {\n",
              "      border-color: transparent;\n",
              "      border-bottom-color: var(--fill-color);\n",
              "    }\n",
              "  }\n",
              "</style>\n",
              "\n",
              "  <script>\n",
              "    async function quickchart(key) {\n",
              "      const quickchartButtonEl =\n",
              "        document.querySelector('#' + key + ' button');\n",
              "      quickchartButtonEl.disabled = true;  // To prevent multiple clicks.\n",
              "      quickchartButtonEl.classList.add('colab-df-spinner');\n",
              "      try {\n",
              "        const charts = await google.colab.kernel.invokeFunction(\n",
              "            'suggestCharts', [key], {});\n",
              "      } catch (error) {\n",
              "        console.error('Error during call to suggestCharts:', error);\n",
              "      }\n",
              "      quickchartButtonEl.classList.remove('colab-df-spinner');\n",
              "      quickchartButtonEl.classList.add('colab-df-quickchart-complete');\n",
              "    }\n",
              "    (() => {\n",
              "      let quickchartButtonEl =\n",
              "        document.querySelector('#df-af12bf32-1cf8-4e0c-b700-063099ccaee2 button');\n",
              "      quickchartButtonEl.style.display =\n",
              "        google.colab.kernel.accessAllowed ? 'block' : 'none';\n",
              "    })();\n",
              "  </script>\n",
              "</div>\n",
              "    </div>\n",
              "  </div>\n"
            ]
          },
          "metadata": {},
          "execution_count": 3
        }
      ]
    },
    {
      "cell_type": "markdown",
      "source": [
        "Let's learn a bit about our dataset. Starting off with the size of the dataset, the % of each variable that's missing, the type of each variable."
      ],
      "metadata": {
        "id": "i3TkNAuwWHvA"
      }
    },
    {
      "cell_type": "code",
      "source": [
        "print(\"\\nShape of dataset\")\n",
        "print(np.shape(data))\n",
        "print(\"Percentage of each variable missing\")\n",
        "print(data.isna().sum()/ np.shape(data)[0])\n",
        "print(\"\\nVariable Type\")\n",
        "print(data.dtypes)"
      ],
      "metadata": {
        "colab": {
          "base_uri": "https://localhost:8080/"
        },
        "id": "Yxx0JkSpS-j5",
        "outputId": "d9a54d60-f589-4352-b7f3-6a30a12ca0cf"
      },
      "execution_count": null,
      "outputs": [
        {
          "output_type": "stream",
          "name": "stdout",
          "text": [
            "\n",
            "Shape of dataset\n",
            "(32581, 12)\n",
            "Percentage of each variable missing\n",
            "person_age                    0.000000\n",
            "person_income                 0.000000\n",
            "person_home_ownership         0.000000\n",
            "person_emp_length             0.027470\n",
            "loan_intent                   0.000000\n",
            "loan_grade                    0.000000\n",
            "loan_amnt                     0.000000\n",
            "loan_int_rate                 0.095639\n",
            "loan_status                   0.000000\n",
            "loan_percent_income           0.000000\n",
            "cb_person_default_on_file     0.000000\n",
            "cb_person_cred_hist_length    0.000000\n",
            "dtype: float64\n",
            "\n",
            "Variable Type\n",
            "person_age                      int64\n",
            "person_income                   int64\n",
            "person_home_ownership          object\n",
            "person_emp_length             float64\n",
            "loan_intent                    object\n",
            "loan_grade                     object\n",
            "loan_amnt                       int64\n",
            "loan_int_rate                 float64\n",
            "loan_status                     int64\n",
            "loan_percent_income           float64\n",
            "cb_person_default_on_file      object\n",
            "cb_person_cred_hist_length      int64\n",
            "dtype: object\n"
          ]
        }
      ]
    },
    {
      "cell_type": "markdown",
      "source": [
        "For ease of doing this exercise let's drop any row that has a missing value - looks like it shouldn't affect our dataset too much."
      ],
      "metadata": {
        "id": "7PDW8WvFWfTV"
      }
    },
    {
      "cell_type": "code",
      "source": [
        "data = data.dropna()"
      ],
      "metadata": {
        "id": "JoxMGdL_XJ8v"
      },
      "execution_count": null,
      "outputs": []
    },
    {
      "cell_type": "code",
      "source": [
        "print(\"\\nNew shape of dataset\")\n",
        "print(np.shape(data))"
      ],
      "metadata": {
        "colab": {
          "base_uri": "https://localhost:8080/"
        },
        "id": "4oRcTq_8V9qd",
        "outputId": "ca84717d-c318-45cf-c321-a9162e2aa666"
      },
      "execution_count": null,
      "outputs": [
        {
          "output_type": "stream",
          "name": "stdout",
          "text": [
            "\n",
            "New shape of dataset\n",
            "(28638, 12)\n"
          ]
        }
      ]
    },
    {
      "cell_type": "markdown",
      "source": [
        "We probably could have augmented the missing values w/ either the missing values of the dataset, or augmented after the train-test split with the average values from the training set, however we'll just roll with dropping the rows."
      ],
      "metadata": {
        "id": "nsDz8d2EYOqi"
      }
    },
    {
      "cell_type": "code",
      "source": [
        "y = data['loan_status'].values\n",
        "X = data.drop(['loan_status'], axis = 1).values"
      ],
      "metadata": {
        "id": "nhGV9TafVwui"
      },
      "execution_count": null,
      "outputs": []
    },
    {
      "cell_type": "code",
      "source": [
        "# Encoding categorical data\n",
        "# Encoding the Independent Variable\n",
        "from sklearn.preprocessing import LabelEncoder, OneHotEncoder\n",
        "from sklearn.compose import make_column_transformer\n",
        "\n",
        "#Dealing with the categorical home_ownership column\n",
        "onehotencoder = make_column_transformer((OneHotEncoder(), [2]), remainder='passthrough')\n",
        "X = onehotencoder.fit_transform(X)\n",
        "\n",
        "#Removing the extra dummy variable\n",
        "X = X[:, 1:]"
      ],
      "metadata": {
        "id": "k0nABCUZZgY3"
      },
      "execution_count": null,
      "outputs": []
    },
    {
      "cell_type": "code",
      "source": [
        "\n",
        "#Dealing with the categorical loan_intent column\n",
        "onehotencoder = make_column_transformer((OneHotEncoder(), [6]), remainder='passthrough')\n",
        "X = onehotencoder.fit_transform(X)\n",
        "\n",
        "#Removing the extra dummy variable\n",
        "X = X[:, 1:]"
      ],
      "metadata": {
        "id": "l02AxCm7aYC8"
      },
      "execution_count": null,
      "outputs": []
    },
    {
      "cell_type": "code",
      "source": [
        "\n",
        "#Dealing with the categorical loan_grade column\n",
        "onehotencoder = make_column_transformer((OneHotEncoder(), [11]), remainder='passthrough')\n",
        "X = onehotencoder.fit_transform(X)\n",
        "\n",
        "#Removing the extra dummy variable\n",
        "X = X[:, 1:]"
      ],
      "metadata": {
        "id": "oqGD4Ki_ahYo"
      },
      "execution_count": null,
      "outputs": []
    },
    {
      "cell_type": "code",
      "source": [
        "#Label Encoding cb_person_default_on_file\n",
        "labelencoder_X = LabelEncoder()\n",
        "X[:, 20] = labelencoder_X.fit_transform(X[:, 20])"
      ],
      "metadata": {
        "id": "xHccHC5uajw3"
      },
      "execution_count": null,
      "outputs": []
    },
    {
      "cell_type": "code",
      "source": [
        "#Splitting the data into Training Set and Test Set\n",
        "from sklearn.model_selection import train_test_split\n",
        "X_train, X_test, y_train, y_test = train_test_split(X,y,test_size=0.2)\n",
        "\n",
        "#Normalizing the features\n",
        "from sklearn.preprocessing import StandardScaler\n",
        "sc_X = StandardScaler()\n",
        "X_train = sc_X.fit_transform(X_train)\n",
        "X_test = sc_X.transform(X_test)"
      ],
      "metadata": {
        "id": "-GPGrDL6bHei"
      },
      "execution_count": null,
      "outputs": []
    },
    {
      "cell_type": "markdown",
      "source": [
        "For classifying the binary variable of loan status there are a few different approaches we can take. There are a plethora of classic machine learning models we can use, we can use some deep learning models, or we could use some statistical models. We'll start with classic ML models"
      ],
      "metadata": {
        "id": "llJEZ8Oubqa5"
      }
    },
    {
      "cell_type": "markdown",
      "source": [
        "#Logistic Regression Model"
      ],
      "metadata": {
        "id": "JeL2PABbwYwX"
      }
    },
    {
      "cell_type": "code",
      "source": [
        "#Fitting Logistic Regression to Training Set\n",
        "from sklearn.linear_model import LogisticRegression\n",
        "logreg_class_Obj = LogisticRegression()\n",
        "logreg_class_Obj.fit(X_train, y_train)"
      ],
      "metadata": {
        "colab": {
          "base_uri": "https://localhost:8080/",
          "height": 75
        },
        "id": "U14Hb7sowbBY",
        "outputId": "dceddadc-e2da-4d0e-89bf-798ef04fefc3"
      },
      "execution_count": null,
      "outputs": [
        {
          "output_type": "execute_result",
          "data": {
            "text/plain": [
              "LogisticRegression()"
            ],
            "text/html": [
              "<style>#sk-container-id-1 {color: black;background-color: white;}#sk-container-id-1 pre{padding: 0;}#sk-container-id-1 div.sk-toggleable {background-color: white;}#sk-container-id-1 label.sk-toggleable__label {cursor: pointer;display: block;width: 100%;margin-bottom: 0;padding: 0.3em;box-sizing: border-box;text-align: center;}#sk-container-id-1 label.sk-toggleable__label-arrow:before {content: \"▸\";float: left;margin-right: 0.25em;color: #696969;}#sk-container-id-1 label.sk-toggleable__label-arrow:hover:before {color: black;}#sk-container-id-1 div.sk-estimator:hover label.sk-toggleable__label-arrow:before {color: black;}#sk-container-id-1 div.sk-toggleable__content {max-height: 0;max-width: 0;overflow: hidden;text-align: left;background-color: #f0f8ff;}#sk-container-id-1 div.sk-toggleable__content pre {margin: 0.2em;color: black;border-radius: 0.25em;background-color: #f0f8ff;}#sk-container-id-1 input.sk-toggleable__control:checked~div.sk-toggleable__content {max-height: 200px;max-width: 100%;overflow: auto;}#sk-container-id-1 input.sk-toggleable__control:checked~label.sk-toggleable__label-arrow:before {content: \"▾\";}#sk-container-id-1 div.sk-estimator input.sk-toggleable__control:checked~label.sk-toggleable__label {background-color: #d4ebff;}#sk-container-id-1 div.sk-label input.sk-toggleable__control:checked~label.sk-toggleable__label {background-color: #d4ebff;}#sk-container-id-1 input.sk-hidden--visually {border: 0;clip: rect(1px 1px 1px 1px);clip: rect(1px, 1px, 1px, 1px);height: 1px;margin: -1px;overflow: hidden;padding: 0;position: absolute;width: 1px;}#sk-container-id-1 div.sk-estimator {font-family: monospace;background-color: #f0f8ff;border: 1px dotted black;border-radius: 0.25em;box-sizing: border-box;margin-bottom: 0.5em;}#sk-container-id-1 div.sk-estimator:hover {background-color: #d4ebff;}#sk-container-id-1 div.sk-parallel-item::after {content: \"\";width: 100%;border-bottom: 1px solid gray;flex-grow: 1;}#sk-container-id-1 div.sk-label:hover label.sk-toggleable__label {background-color: #d4ebff;}#sk-container-id-1 div.sk-serial::before {content: \"\";position: absolute;border-left: 1px solid gray;box-sizing: border-box;top: 0;bottom: 0;left: 50%;z-index: 0;}#sk-container-id-1 div.sk-serial {display: flex;flex-direction: column;align-items: center;background-color: white;padding-right: 0.2em;padding-left: 0.2em;position: relative;}#sk-container-id-1 div.sk-item {position: relative;z-index: 1;}#sk-container-id-1 div.sk-parallel {display: flex;align-items: stretch;justify-content: center;background-color: white;position: relative;}#sk-container-id-1 div.sk-item::before, #sk-container-id-1 div.sk-parallel-item::before {content: \"\";position: absolute;border-left: 1px solid gray;box-sizing: border-box;top: 0;bottom: 0;left: 50%;z-index: -1;}#sk-container-id-1 div.sk-parallel-item {display: flex;flex-direction: column;z-index: 1;position: relative;background-color: white;}#sk-container-id-1 div.sk-parallel-item:first-child::after {align-self: flex-end;width: 50%;}#sk-container-id-1 div.sk-parallel-item:last-child::after {align-self: flex-start;width: 50%;}#sk-container-id-1 div.sk-parallel-item:only-child::after {width: 0;}#sk-container-id-1 div.sk-dashed-wrapped {border: 1px dashed gray;margin: 0 0.4em 0.5em 0.4em;box-sizing: border-box;padding-bottom: 0.4em;background-color: white;}#sk-container-id-1 div.sk-label label {font-family: monospace;font-weight: bold;display: inline-block;line-height: 1.2em;}#sk-container-id-1 div.sk-label-container {text-align: center;}#sk-container-id-1 div.sk-container {/* jupyter's `normalize.less` sets `[hidden] { display: none; }` but bootstrap.min.css set `[hidden] { display: none !important; }` so we also need the `!important` here to be able to override the default hidden behavior on the sphinx rendered scikit-learn.org. See: https://github.com/scikit-learn/scikit-learn/issues/21755 */display: inline-block !important;position: relative;}#sk-container-id-1 div.sk-text-repr-fallback {display: none;}</style><div id=\"sk-container-id-1\" class=\"sk-top-container\"><div class=\"sk-text-repr-fallback\"><pre>LogisticRegression()</pre><b>In a Jupyter environment, please rerun this cell to show the HTML representation or trust the notebook. <br />On GitHub, the HTML representation is unable to render, please try loading this page with nbviewer.org.</b></div><div class=\"sk-container\" hidden><div class=\"sk-item\"><div class=\"sk-estimator sk-toggleable\"><input class=\"sk-toggleable__control sk-hidden--visually\" id=\"sk-estimator-id-1\" type=\"checkbox\" checked><label for=\"sk-estimator-id-1\" class=\"sk-toggleable__label sk-toggleable__label-arrow\">LogisticRegression</label><div class=\"sk-toggleable__content\"><pre>LogisticRegression()</pre></div></div></div></div></div>"
            ]
          },
          "metadata": {},
          "execution_count": 13
        }
      ]
    },
    {
      "cell_type": "code",
      "source": [
        "#Making predictions on the Test Set\n",
        "y_pred = logreg_class_Obj.predict(X_test)"
      ],
      "metadata": {
        "id": "G24QxXwawlLs"
      },
      "execution_count": null,
      "outputs": []
    },
    {
      "cell_type": "code",
      "source": [
        "#Print Model Accuracy\n",
        "logreg_class_score = logreg_class_Obj.score(X_test,y_test)\n",
        "print(logreg_class_score)"
      ],
      "metadata": {
        "colab": {
          "base_uri": "https://localhost:8080/"
        },
        "id": "KmSDNU7YwqsJ",
        "outputId": "6b52c7e8-949d-483b-edac-400b94e14e5d"
      },
      "execution_count": null,
      "outputs": [
        {
          "output_type": "stream",
          "name": "stdout",
          "text": [
            "0.8627793296089385\n"
          ]
        }
      ]
    },
    {
      "cell_type": "markdown",
      "source": [
        "#Random Forst Model"
      ],
      "metadata": {
        "id": "qLMOhftufvNH"
      }
    },
    {
      "cell_type": "code",
      "source": [
        "from sklearn.ensemble import RandomForestClassifier\n",
        "from sklearn.model_selection import cross_val_score"
      ],
      "metadata": {
        "id": "_w6wT8Wjbpoz"
      },
      "execution_count": null,
      "outputs": []
    },
    {
      "cell_type": "code",
      "source": [
        "#Fitting Classifier to Training Set. Create a random forest classifier object here\n",
        "rf_class_Obj = RandomForestClassifier(criterion='entropy')\n",
        "rf_class_Obj.fit(X_train,y_train)"
      ],
      "metadata": {
        "colab": {
          "base_uri": "https://localhost:8080/",
          "height": 75
        },
        "id": "cWvmLy-ybYRr",
        "outputId": "d834ea4c-8423-44da-f479-fa83a65fa50c"
      },
      "execution_count": null,
      "outputs": [
        {
          "output_type": "execute_result",
          "data": {
            "text/plain": [
              "RandomForestClassifier(criterion='entropy')"
            ],
            "text/html": [
              "<style>#sk-container-id-2 {color: black;background-color: white;}#sk-container-id-2 pre{padding: 0;}#sk-container-id-2 div.sk-toggleable {background-color: white;}#sk-container-id-2 label.sk-toggleable__label {cursor: pointer;display: block;width: 100%;margin-bottom: 0;padding: 0.3em;box-sizing: border-box;text-align: center;}#sk-container-id-2 label.sk-toggleable__label-arrow:before {content: \"▸\";float: left;margin-right: 0.25em;color: #696969;}#sk-container-id-2 label.sk-toggleable__label-arrow:hover:before {color: black;}#sk-container-id-2 div.sk-estimator:hover label.sk-toggleable__label-arrow:before {color: black;}#sk-container-id-2 div.sk-toggleable__content {max-height: 0;max-width: 0;overflow: hidden;text-align: left;background-color: #f0f8ff;}#sk-container-id-2 div.sk-toggleable__content pre {margin: 0.2em;color: black;border-radius: 0.25em;background-color: #f0f8ff;}#sk-container-id-2 input.sk-toggleable__control:checked~div.sk-toggleable__content {max-height: 200px;max-width: 100%;overflow: auto;}#sk-container-id-2 input.sk-toggleable__control:checked~label.sk-toggleable__label-arrow:before {content: \"▾\";}#sk-container-id-2 div.sk-estimator input.sk-toggleable__control:checked~label.sk-toggleable__label {background-color: #d4ebff;}#sk-container-id-2 div.sk-label input.sk-toggleable__control:checked~label.sk-toggleable__label {background-color: #d4ebff;}#sk-container-id-2 input.sk-hidden--visually {border: 0;clip: rect(1px 1px 1px 1px);clip: rect(1px, 1px, 1px, 1px);height: 1px;margin: -1px;overflow: hidden;padding: 0;position: absolute;width: 1px;}#sk-container-id-2 div.sk-estimator {font-family: monospace;background-color: #f0f8ff;border: 1px dotted black;border-radius: 0.25em;box-sizing: border-box;margin-bottom: 0.5em;}#sk-container-id-2 div.sk-estimator:hover {background-color: #d4ebff;}#sk-container-id-2 div.sk-parallel-item::after {content: \"\";width: 100%;border-bottom: 1px solid gray;flex-grow: 1;}#sk-container-id-2 div.sk-label:hover label.sk-toggleable__label {background-color: #d4ebff;}#sk-container-id-2 div.sk-serial::before {content: \"\";position: absolute;border-left: 1px solid gray;box-sizing: border-box;top: 0;bottom: 0;left: 50%;z-index: 0;}#sk-container-id-2 div.sk-serial {display: flex;flex-direction: column;align-items: center;background-color: white;padding-right: 0.2em;padding-left: 0.2em;position: relative;}#sk-container-id-2 div.sk-item {position: relative;z-index: 1;}#sk-container-id-2 div.sk-parallel {display: flex;align-items: stretch;justify-content: center;background-color: white;position: relative;}#sk-container-id-2 div.sk-item::before, #sk-container-id-2 div.sk-parallel-item::before {content: \"\";position: absolute;border-left: 1px solid gray;box-sizing: border-box;top: 0;bottom: 0;left: 50%;z-index: -1;}#sk-container-id-2 div.sk-parallel-item {display: flex;flex-direction: column;z-index: 1;position: relative;background-color: white;}#sk-container-id-2 div.sk-parallel-item:first-child::after {align-self: flex-end;width: 50%;}#sk-container-id-2 div.sk-parallel-item:last-child::after {align-self: flex-start;width: 50%;}#sk-container-id-2 div.sk-parallel-item:only-child::after {width: 0;}#sk-container-id-2 div.sk-dashed-wrapped {border: 1px dashed gray;margin: 0 0.4em 0.5em 0.4em;box-sizing: border-box;padding-bottom: 0.4em;background-color: white;}#sk-container-id-2 div.sk-label label {font-family: monospace;font-weight: bold;display: inline-block;line-height: 1.2em;}#sk-container-id-2 div.sk-label-container {text-align: center;}#sk-container-id-2 div.sk-container {/* jupyter's `normalize.less` sets `[hidden] { display: none; }` but bootstrap.min.css set `[hidden] { display: none !important; }` so we also need the `!important` here to be able to override the default hidden behavior on the sphinx rendered scikit-learn.org. See: https://github.com/scikit-learn/scikit-learn/issues/21755 */display: inline-block !important;position: relative;}#sk-container-id-2 div.sk-text-repr-fallback {display: none;}</style><div id=\"sk-container-id-2\" class=\"sk-top-container\"><div class=\"sk-text-repr-fallback\"><pre>RandomForestClassifier(criterion=&#x27;entropy&#x27;)</pre><b>In a Jupyter environment, please rerun this cell to show the HTML representation or trust the notebook. <br />On GitHub, the HTML representation is unable to render, please try loading this page with nbviewer.org.</b></div><div class=\"sk-container\" hidden><div class=\"sk-item\"><div class=\"sk-estimator sk-toggleable\"><input class=\"sk-toggleable__control sk-hidden--visually\" id=\"sk-estimator-id-2\" type=\"checkbox\" checked><label for=\"sk-estimator-id-2\" class=\"sk-toggleable__label sk-toggleable__label-arrow\">RandomForestClassifier</label><div class=\"sk-toggleable__content\"><pre>RandomForestClassifier(criterion=&#x27;entropy&#x27;)</pre></div></div></div></div></div>"
            ]
          },
          "metadata": {},
          "execution_count": 17
        }
      ]
    },
    {
      "cell_type": "code",
      "source": [
        "#Making predictions on the Test Set\n",
        "y_pred = rf_class_Obj.predict(X_test)"
      ],
      "metadata": {
        "id": "8MKMAveRdm3J"
      },
      "execution_count": null,
      "outputs": []
    },
    {
      "cell_type": "code",
      "source": [
        "#Model Accuracy\n",
        "rf_class_score = rf_class_Obj.score(X_test,y_test)\n",
        "print(rf_class_score)"
      ],
      "metadata": {
        "colab": {
          "base_uri": "https://localhost:8080/"
        },
        "id": "68BLmgvBeppT",
        "outputId": "4c8915a5-9249-4425-930b-30fd0c7e1b51"
      },
      "execution_count": null,
      "outputs": [
        {
          "output_type": "stream",
          "name": "stdout",
          "text": [
            "0.928945530726257\n"
          ]
        }
      ]
    },
    {
      "cell_type": "code",
      "source": [
        "#Evaluating the predictions using a Confusion Matrix\n",
        "from sklearn.metrics import confusion_matrix\n",
        "cm = confusion_matrix(y_test, y_pred)\n",
        "print(cm)"
      ],
      "metadata": {
        "colab": {
          "base_uri": "https://localhost:8080/"
        },
        "id": "aHncOrmnet4O",
        "outputId": "f4afafa3-df63-468b-c679-c5adbdca6499"
      },
      "execution_count": null,
      "outputs": [
        {
          "output_type": "stream",
          "name": "stdout",
          "text": [
            "[[4395   37]\n",
            " [ 370  926]]\n"
          ]
        }
      ]
    },
    {
      "cell_type": "markdown",
      "source": [
        "#Naive Bayes Model"
      ],
      "metadata": {
        "id": "t5f26uVdfxst"
      }
    },
    {
      "cell_type": "code",
      "source": [
        "#Fitting Classifier to Training Set. Create a naive bayes classifier object here\n",
        "from sklearn.naive_bayes import GaussianNB\n",
        "nb_class_Obj = GaussianNB()\n",
        "nb_class_Obj.fit(X_train, y_train)\n",
        "\n",
        "#Making predictions on the Test Set\n",
        "y_pred = nb_class_Obj.predict(X_test)"
      ],
      "metadata": {
        "id": "yQTXoLVzfBl2"
      },
      "execution_count": null,
      "outputs": []
    },
    {
      "cell_type": "code",
      "source": [
        "#Model Accuracy\n",
        "nb_class_score = nb_class_Obj.score(X_test,y_test)\n",
        "print(nb_class_score)"
      ],
      "metadata": {
        "colab": {
          "base_uri": "https://localhost:8080/"
        },
        "id": "zfKzdZ1Cf2-D",
        "outputId": "6b0c4f3e-d8bd-43d5-9909-4652e5c17041"
      },
      "execution_count": null,
      "outputs": [
        {
          "output_type": "stream",
          "name": "stdout",
          "text": [
            "0.8289106145251397\n"
          ]
        }
      ]
    },
    {
      "cell_type": "code",
      "source": [
        "#Evaluating the predictions using a Confusion Matrix\n",
        "cm = confusion_matrix(y_test, y_pred)\n",
        "print(cm)"
      ],
      "metadata": {
        "colab": {
          "base_uri": "https://localhost:8080/"
        },
        "id": "LVLj4gFOgC7t",
        "outputId": "b64441c5-fdf9-44fe-d2f5-6e1927ca99ac"
      },
      "execution_count": null,
      "outputs": [
        {
          "output_type": "stream",
          "name": "stdout",
          "text": [
            "[[4154  278]\n",
            " [ 702  594]]\n"
          ]
        }
      ]
    },
    {
      "cell_type": "markdown",
      "source": [
        "#Support Vector Machine - Linear Kernel"
      ],
      "metadata": {
        "id": "-y2GY_eygJ7t"
      }
    },
    {
      "cell_type": "code",
      "source": [
        "#Fitting Classifier to Training Set. Create a svm classifier object here\n",
        "from sklearn.svm import SVC\n",
        "svm_class_Obj = SVC(kernel='linear')\n",
        "svm_class_Obj.fit(X_train, y_train)\n",
        "\n",
        "#Making predictions on the Test Set\n",
        "y_pred = svm_class_Obj.predict(X_test)"
      ],
      "metadata": {
        "id": "_FCu22_ygIbR"
      },
      "execution_count": null,
      "outputs": []
    },
    {
      "cell_type": "code",
      "source": [
        "#Model Accuracy\n",
        "svm_class_score = svm_class_Obj.score(X_test,y_test)\n",
        "print(svm_class_score)"
      ],
      "metadata": {
        "colab": {
          "base_uri": "https://localhost:8080/"
        },
        "id": "wmRHdHPNg4rO",
        "outputId": "6c6e1ee7-58fd-410a-a01c-5a679c830ee8"
      },
      "execution_count": null,
      "outputs": [
        {
          "output_type": "stream",
          "name": "stdout",
          "text": [
            "0.8634776536312849\n"
          ]
        }
      ]
    },
    {
      "cell_type": "code",
      "source": [
        "#Evaluating the predictions using a Confusion Matrix\n",
        "cm = confusion_matrix(y_test, y_pred)\n",
        "print(cm)"
      ],
      "metadata": {
        "colab": {
          "base_uri": "https://localhost:8080/"
        },
        "id": "P6chDaPVg4-e",
        "outputId": "562dd48e-d02f-4ce1-c901-344e2ef5c663"
      },
      "execution_count": null,
      "outputs": [
        {
          "output_type": "stream",
          "name": "stdout",
          "text": [
            "[[4220  212]\n",
            " [ 570  726]]\n"
          ]
        }
      ]
    },
    {
      "cell_type": "markdown",
      "source": [
        "#Support Vector Machine - RBF Kernel"
      ],
      "metadata": {
        "id": "pwmmb55ahdbC"
      }
    },
    {
      "cell_type": "code",
      "source": [
        "#Fitting Classifier to Training Set. Create a svm classifier object here\n",
        "svmrbf_class_Obj = SVC(kernel='rbf')\n",
        "svmrbf_class_Obj.fit(X_train, y_train)\n",
        "\n",
        "#Making predictions on the Test Set\n",
        "y_pred = svmrbf_class_Obj.predict(X_test)"
      ],
      "metadata": {
        "id": "evYchncYhajo"
      },
      "execution_count": null,
      "outputs": []
    },
    {
      "cell_type": "code",
      "source": [
        "#Model Accuracy\n",
        "svmrbf_class_score = svmrbf_class_Obj.score(X_test,y_test)\n",
        "print(svmrbf_class_score)"
      ],
      "metadata": {
        "colab": {
          "base_uri": "https://localhost:8080/"
        },
        "id": "Jy-vt9JCh1nT",
        "outputId": "a3bee42d-ed38-42d5-883a-4f9d7431f165"
      },
      "execution_count": null,
      "outputs": [
        {
          "output_type": "stream",
          "name": "stdout",
          "text": [
            "0.9053770949720671\n"
          ]
        }
      ]
    },
    {
      "cell_type": "code",
      "source": [
        "#Evaluating the predictions using a Confusion Matrix\n",
        "cm = confusion_matrix(y_test, y_pred)\n",
        "print(cm)"
      ],
      "metadata": {
        "colab": {
          "base_uri": "https://localhost:8080/"
        },
        "id": "LElH74uWhy5A",
        "outputId": "2d74e36e-5ec7-4d67-b8ca-ccbbf80eab9b"
      },
      "execution_count": null,
      "outputs": [
        {
          "output_type": "stream",
          "name": "stdout",
          "text": [
            "[[4373   59]\n",
            " [ 483  813]]\n"
          ]
        }
      ]
    },
    {
      "cell_type": "markdown",
      "source": [
        "#Neural Network"
      ],
      "metadata": {
        "id": "mpys6a-_iEE5"
      }
    },
    {
      "cell_type": "code",
      "source": [
        "from tensorflow.keras.layers import Input, Dense, Dropout\n",
        "from tensorflow.keras.models import Model\n",
        "from tensorflow.keras.optimizers import SGD, Adam, RMSprop"
      ],
      "metadata": {
        "id": "6giVW_TRiCih"
      },
      "execution_count": null,
      "outputs": []
    },
    {
      "cell_type": "code",
      "source": [
        "i = Input(shape=np.shape(X_train)[1])\n",
        "x = Dense(256, activation='relu')(i)\n",
        "x = Dense(128, activation='relu')(x)\n",
        "x = Dense(64, activation='relu')(x)\n",
        "x = Dense(32, activation='relu')(x)\n",
        "x = Dense(16, activation='relu')(x)\n",
        "x = Dense(1, activation='sigmoid')(x)\n",
        "\n",
        "nn_model = Model(i, x)"
      ],
      "metadata": {
        "id": "tI62P8zai9gH"
      },
      "execution_count": null,
      "outputs": []
    },
    {
      "cell_type": "code",
      "source": [
        "nn_model.summary()"
      ],
      "metadata": {
        "colab": {
          "base_uri": "https://localhost:8080/"
        },
        "id": "k96elzOojtYV",
        "outputId": "2f624462-5fc2-45ee-f147-f8f418ddb6f4"
      },
      "execution_count": null,
      "outputs": [
        {
          "output_type": "stream",
          "name": "stdout",
          "text": [
            "Model: \"model\"\n",
            "_________________________________________________________________\n",
            " Layer (type)                Output Shape              Param #   \n",
            "=================================================================\n",
            " input_1 (InputLayer)        [(None, 22)]              0         \n",
            "                                                                 \n",
            " dense (Dense)               (None, 256)               5888      \n",
            "                                                                 \n",
            " dense_1 (Dense)             (None, 128)               32896     \n",
            "                                                                 \n",
            " dense_2 (Dense)             (None, 64)                8256      \n",
            "                                                                 \n",
            " dense_3 (Dense)             (None, 32)                2080      \n",
            "                                                                 \n",
            " dense_4 (Dense)             (None, 16)                528       \n",
            "                                                                 \n",
            " dense_5 (Dense)             (None, 1)                 17        \n",
            "                                                                 \n",
            "=================================================================\n",
            "Total params: 49,665\n",
            "Trainable params: 49,665\n",
            "Non-trainable params: 0\n",
            "_________________________________________________________________\n"
          ]
        }
      ]
    },
    {
      "cell_type": "code",
      "source": [
        "#Compiling the model\n",
        "nn_model.compile(optimizer=Adam(learning_rate=0.001),\n",
        "              loss='binary_crossentropy',\n",
        "              metrics = ['acc'])"
      ],
      "metadata": {
        "id": "hqz7mgbtjuJQ"
      },
      "execution_count": null,
      "outputs": []
    },
    {
      "cell_type": "code",
      "source": [
        "# Running model\n",
        "r = nn_model.fit(X_train, y_train, validation_data=(X_test, y_test), epochs=100)"
      ],
      "metadata": {
        "colab": {
          "base_uri": "https://localhost:8080/"
        },
        "id": "CSyQiFtmkXOU",
        "outputId": "3138e219-26f4-4f64-d81c-eda5992c0e93"
      },
      "execution_count": null,
      "outputs": [
        {
          "output_type": "stream",
          "name": "stdout",
          "text": [
            "Epoch 1/100\n",
            "716/716 [==============================] - 5s 5ms/step - loss: 0.2976 - acc: 0.8885 - val_loss: 0.2936 - val_acc: 0.8939\n",
            "Epoch 2/100\n",
            "716/716 [==============================] - 3s 4ms/step - loss: 0.2510 - acc: 0.9123 - val_loss: 0.2561 - val_acc: 0.9103\n",
            "Epoch 3/100\n",
            "716/716 [==============================] - 2s 3ms/step - loss: 0.2366 - acc: 0.9184 - val_loss: 0.2479 - val_acc: 0.9136\n",
            "Epoch 4/100\n",
            "716/716 [==============================] - 2s 3ms/step - loss: 0.2290 - acc: 0.9213 - val_loss: 0.2514 - val_acc: 0.9106\n",
            "Epoch 5/100\n",
            "716/716 [==============================] - 2s 3ms/step - loss: 0.2236 - acc: 0.9230 - val_loss: 0.2492 - val_acc: 0.9120\n",
            "Epoch 6/100\n",
            "716/716 [==============================] - 3s 4ms/step - loss: 0.2216 - acc: 0.9244 - val_loss: 0.2477 - val_acc: 0.9129\n",
            "Epoch 7/100\n",
            "716/716 [==============================] - 4s 5ms/step - loss: 0.2178 - acc: 0.9252 - val_loss: 0.2379 - val_acc: 0.9178\n",
            "Epoch 8/100\n",
            "716/716 [==============================] - 2s 3ms/step - loss: 0.2148 - acc: 0.9268 - val_loss: 0.2430 - val_acc: 0.9157\n",
            "Epoch 9/100\n",
            "716/716 [==============================] - 2s 3ms/step - loss: 0.2135 - acc: 0.9263 - val_loss: 0.2576 - val_acc: 0.9139\n",
            "Epoch 10/100\n",
            "716/716 [==============================] - 2s 3ms/step - loss: 0.2096 - acc: 0.9282 - val_loss: 0.2371 - val_acc: 0.9176\n",
            "Epoch 11/100\n",
            "716/716 [==============================] - 2s 3ms/step - loss: 0.2082 - acc: 0.9290 - val_loss: 0.2572 - val_acc: 0.9171\n",
            "Epoch 12/100\n",
            "716/716 [==============================] - 3s 5ms/step - loss: 0.2058 - acc: 0.9296 - val_loss: 0.2597 - val_acc: 0.9122\n",
            "Epoch 13/100\n",
            "716/716 [==============================] - 3s 4ms/step - loss: 0.2045 - acc: 0.9298 - val_loss: 0.2394 - val_acc: 0.9181\n",
            "Epoch 14/100\n",
            "716/716 [==============================] - 2s 3ms/step - loss: 0.2014 - acc: 0.9303 - val_loss: 0.2361 - val_acc: 0.9207\n",
            "Epoch 15/100\n",
            "716/716 [==============================] - 2s 3ms/step - loss: 0.1995 - acc: 0.9310 - val_loss: 0.2479 - val_acc: 0.9167\n",
            "Epoch 16/100\n",
            "716/716 [==============================] - 3s 4ms/step - loss: 0.1963 - acc: 0.9323 - val_loss: 0.2424 - val_acc: 0.9186\n",
            "Epoch 17/100\n",
            "716/716 [==============================] - 3s 5ms/step - loss: 0.1951 - acc: 0.9318 - val_loss: 0.2500 - val_acc: 0.9193\n",
            "Epoch 18/100\n",
            "716/716 [==============================] - 3s 5ms/step - loss: 0.1925 - acc: 0.9336 - val_loss: 0.2430 - val_acc: 0.9162\n",
            "Epoch 19/100\n",
            "716/716 [==============================] - 3s 4ms/step - loss: 0.1904 - acc: 0.9331 - val_loss: 0.2615 - val_acc: 0.9166\n",
            "Epoch 20/100\n",
            "716/716 [==============================] - 2s 3ms/step - loss: 0.1857 - acc: 0.9353 - val_loss: 0.2556 - val_acc: 0.9185\n",
            "Epoch 21/100\n",
            "716/716 [==============================] - 2s 3ms/step - loss: 0.1846 - acc: 0.9346 - val_loss: 0.2582 - val_acc: 0.9185\n",
            "Epoch 22/100\n",
            "716/716 [==============================] - 2s 3ms/step - loss: 0.1830 - acc: 0.9343 - val_loss: 0.2658 - val_acc: 0.9188\n",
            "Epoch 23/100\n",
            "716/716 [==============================] - 5s 7ms/step - loss: 0.1811 - acc: 0.9361 - val_loss: 0.2578 - val_acc: 0.9176\n",
            "Epoch 24/100\n",
            "716/716 [==============================] - 2s 3ms/step - loss: 0.1758 - acc: 0.9371 - val_loss: 0.2740 - val_acc: 0.9153\n",
            "Epoch 25/100\n",
            "716/716 [==============================] - 2s 3ms/step - loss: 0.1780 - acc: 0.9359 - val_loss: 0.2673 - val_acc: 0.9146\n",
            "Epoch 26/100\n",
            "716/716 [==============================] - 3s 4ms/step - loss: 0.1726 - acc: 0.9377 - val_loss: 0.2766 - val_acc: 0.9160\n",
            "Epoch 27/100\n",
            "716/716 [==============================] - 3s 4ms/step - loss: 0.1691 - acc: 0.9388 - val_loss: 0.2667 - val_acc: 0.9171\n",
            "Epoch 28/100\n",
            "716/716 [==============================] - 4s 5ms/step - loss: 0.1666 - acc: 0.9390 - val_loss: 0.2729 - val_acc: 0.9171\n",
            "Epoch 29/100\n",
            "716/716 [==============================] - 3s 4ms/step - loss: 0.1649 - acc: 0.9391 - val_loss: 0.2732 - val_acc: 0.9159\n",
            "Epoch 30/100\n",
            "716/716 [==============================] - 2s 3ms/step - loss: 0.1634 - acc: 0.9389 - val_loss: 0.2795 - val_acc: 0.9159\n",
            "Epoch 31/100\n",
            "716/716 [==============================] - 2s 3ms/step - loss: 0.1578 - acc: 0.9413 - val_loss: 0.2955 - val_acc: 0.9190\n",
            "Epoch 32/100\n",
            "716/716 [==============================] - 2s 3ms/step - loss: 0.1587 - acc: 0.9401 - val_loss: 0.2992 - val_acc: 0.9146\n",
            "Epoch 33/100\n",
            "716/716 [==============================] - 4s 6ms/step - loss: 0.1548 - acc: 0.9418 - val_loss: 0.3100 - val_acc: 0.9145\n",
            "Epoch 34/100\n",
            "716/716 [==============================] - 3s 4ms/step - loss: 0.1506 - acc: 0.9423 - val_loss: 0.3236 - val_acc: 0.9136\n",
            "Epoch 35/100\n",
            "716/716 [==============================] - 2s 3ms/step - loss: 0.1494 - acc: 0.9430 - val_loss: 0.3029 - val_acc: 0.9157\n",
            "Epoch 36/100\n",
            "716/716 [==============================] - 2s 3ms/step - loss: 0.1457 - acc: 0.9442 - val_loss: 0.3303 - val_acc: 0.9129\n",
            "Epoch 37/100\n",
            "716/716 [==============================] - 2s 3ms/step - loss: 0.1429 - acc: 0.9456 - val_loss: 0.3383 - val_acc: 0.9122\n",
            "Epoch 38/100\n",
            "716/716 [==============================] - 3s 4ms/step - loss: 0.1432 - acc: 0.9443 - val_loss: 0.3353 - val_acc: 0.9134\n",
            "Epoch 39/100\n",
            "716/716 [==============================] - 3s 5ms/step - loss: 0.1377 - acc: 0.9460 - val_loss: 0.3437 - val_acc: 0.9094\n",
            "Epoch 40/100\n",
            "716/716 [==============================] - 2s 3ms/step - loss: 0.1353 - acc: 0.9489 - val_loss: 0.3338 - val_acc: 0.9131\n",
            "Epoch 41/100\n",
            "716/716 [==============================] - 2s 3ms/step - loss: 0.1347 - acc: 0.9477 - val_loss: 0.3531 - val_acc: 0.9090\n",
            "Epoch 42/100\n",
            "716/716 [==============================] - 2s 3ms/step - loss: 0.1277 - acc: 0.9504 - val_loss: 0.3703 - val_acc: 0.9066\n",
            "Epoch 43/100\n",
            "716/716 [==============================] - 2s 3ms/step - loss: 0.1295 - acc: 0.9481 - val_loss: 0.3847 - val_acc: 0.9080\n",
            "Epoch 44/100\n",
            "716/716 [==============================] - 4s 5ms/step - loss: 0.1273 - acc: 0.9503 - val_loss: 0.4453 - val_acc: 0.9078\n",
            "Epoch 45/100\n",
            "716/716 [==============================] - 3s 4ms/step - loss: 0.1225 - acc: 0.9521 - val_loss: 0.4167 - val_acc: 0.9035\n",
            "Epoch 46/100\n",
            "716/716 [==============================] - 2s 3ms/step - loss: 0.1265 - acc: 0.9505 - val_loss: 0.3948 - val_acc: 0.9021\n",
            "Epoch 47/100\n",
            "716/716 [==============================] - 2s 3ms/step - loss: 0.1162 - acc: 0.9536 - val_loss: 0.4329 - val_acc: 0.9029\n",
            "Epoch 48/100\n",
            "716/716 [==============================] - 2s 3ms/step - loss: 0.1160 - acc: 0.9552 - val_loss: 0.3989 - val_acc: 0.9017\n",
            "Epoch 49/100\n",
            "716/716 [==============================] - 3s 4ms/step - loss: 0.1137 - acc: 0.9559 - val_loss: 0.4255 - val_acc: 0.8968\n",
            "Epoch 50/100\n",
            "716/716 [==============================] - 4s 5ms/step - loss: 0.1108 - acc: 0.9555 - val_loss: 0.4702 - val_acc: 0.9066\n",
            "Epoch 51/100\n",
            "716/716 [==============================] - 2s 3ms/step - loss: 0.1082 - acc: 0.9572 - val_loss: 0.4620 - val_acc: 0.9045\n",
            "Epoch 52/100\n",
            "716/716 [==============================] - 2s 3ms/step - loss: 0.1126 - acc: 0.9548 - val_loss: 0.4177 - val_acc: 0.8980\n",
            "Epoch 53/100\n",
            "716/716 [==============================] - 2s 3ms/step - loss: 0.1046 - acc: 0.9591 - val_loss: 0.4535 - val_acc: 0.8991\n",
            "Epoch 54/100\n",
            "716/716 [==============================] - 2s 3ms/step - loss: 0.1077 - acc: 0.9578 - val_loss: 0.4553 - val_acc: 0.9007\n",
            "Epoch 55/100\n",
            "716/716 [==============================] - 4s 5ms/step - loss: 0.1042 - acc: 0.9595 - val_loss: 0.4458 - val_acc: 0.8942\n",
            "Epoch 56/100\n",
            "716/716 [==============================] - 3s 4ms/step - loss: 0.0978 - acc: 0.9630 - val_loss: 0.4909 - val_acc: 0.8970\n",
            "Epoch 57/100\n",
            "716/716 [==============================] - 4s 6ms/step - loss: 0.0991 - acc: 0.9609 - val_loss: 0.4909 - val_acc: 0.8994\n",
            "Epoch 58/100\n",
            "716/716 [==============================] - 2s 3ms/step - loss: 0.0979 - acc: 0.9617 - val_loss: 0.4379 - val_acc: 0.8935\n",
            "Epoch 59/100\n",
            "716/716 [==============================] - 3s 4ms/step - loss: 0.0956 - acc: 0.9633 - val_loss: 0.4710 - val_acc: 0.9036\n",
            "Epoch 60/100\n",
            "716/716 [==============================] - 3s 5ms/step - loss: 0.0923 - acc: 0.9639 - val_loss: 0.4782 - val_acc: 0.8986\n",
            "Epoch 61/100\n",
            "716/716 [==============================] - 2s 3ms/step - loss: 0.0935 - acc: 0.9632 - val_loss: 0.4705 - val_acc: 0.8839\n",
            "Epoch 62/100\n",
            "716/716 [==============================] - 2s 3ms/step - loss: 0.0894 - acc: 0.9653 - val_loss: 0.4748 - val_acc: 0.8980\n",
            "Epoch 63/100\n",
            "716/716 [==============================] - 2s 3ms/step - loss: 0.0906 - acc: 0.9648 - val_loss: 0.5038 - val_acc: 0.9069\n",
            "Epoch 64/100\n",
            "716/716 [==============================] - 3s 4ms/step - loss: 0.0883 - acc: 0.9648 - val_loss: 0.4942 - val_acc: 0.8942\n",
            "Epoch 65/100\n",
            "716/716 [==============================] - 4s 5ms/step - loss: 0.0839 - acc: 0.9665 - val_loss: 0.5491 - val_acc: 0.8982\n",
            "Epoch 66/100\n",
            "716/716 [==============================] - 2s 3ms/step - loss: 0.0818 - acc: 0.9681 - val_loss: 0.5392 - val_acc: 0.8902\n",
            "Epoch 67/100\n",
            "716/716 [==============================] - 2s 3ms/step - loss: 0.0832 - acc: 0.9672 - val_loss: 0.4895 - val_acc: 0.8963\n",
            "Epoch 68/100\n",
            "716/716 [==============================] - 2s 3ms/step - loss: 0.0812 - acc: 0.9678 - val_loss: 0.5701 - val_acc: 0.9005\n",
            "Epoch 69/100\n",
            "716/716 [==============================] - 3s 4ms/step - loss: 0.0800 - acc: 0.9693 - val_loss: 0.5519 - val_acc: 0.8975\n",
            "Epoch 70/100\n",
            "716/716 [==============================] - 4s 5ms/step - loss: 0.0764 - acc: 0.9718 - val_loss: 0.6621 - val_acc: 0.9080\n",
            "Epoch 71/100\n",
            "716/716 [==============================] - 3s 4ms/step - loss: 0.0751 - acc: 0.9710 - val_loss: 0.5898 - val_acc: 0.8935\n",
            "Epoch 72/100\n",
            "716/716 [==============================] - 3s 4ms/step - loss: 0.0736 - acc: 0.9715 - val_loss: 0.5758 - val_acc: 0.8972\n",
            "Epoch 73/100\n",
            "716/716 [==============================] - 2s 3ms/step - loss: 0.0803 - acc: 0.9689 - val_loss: 0.5567 - val_acc: 0.8958\n",
            "Epoch 74/100\n",
            "716/716 [==============================] - 3s 4ms/step - loss: 0.0704 - acc: 0.9720 - val_loss: 0.6014 - val_acc: 0.9040\n",
            "Epoch 75/100\n",
            "716/716 [==============================] - 3s 4ms/step - loss: 0.0687 - acc: 0.9737 - val_loss: 0.6217 - val_acc: 0.8972\n",
            "Epoch 76/100\n",
            "716/716 [==============================] - 4s 5ms/step - loss: 0.0697 - acc: 0.9734 - val_loss: 0.6100 - val_acc: 0.9005\n",
            "Epoch 77/100\n",
            "716/716 [==============================] - 2s 3ms/step - loss: 0.0691 - acc: 0.9735 - val_loss: 0.6037 - val_acc: 0.8973\n",
            "Epoch 78/100\n",
            "716/716 [==============================] - 2s 3ms/step - loss: 0.0759 - acc: 0.9707 - val_loss: 0.6048 - val_acc: 0.8975\n",
            "Epoch 79/100\n",
            "716/716 [==============================] - 2s 3ms/step - loss: 0.0673 - acc: 0.9737 - val_loss: 0.6277 - val_acc: 0.8963\n",
            "Epoch 80/100\n",
            "716/716 [==============================] - 2s 3ms/step - loss: 0.0666 - acc: 0.9743 - val_loss: 0.6795 - val_acc: 0.9001\n",
            "Epoch 81/100\n",
            "716/716 [==============================] - 4s 5ms/step - loss: 0.0670 - acc: 0.9750 - val_loss: 0.6068 - val_acc: 0.8879\n",
            "Epoch 82/100\n",
            "716/716 [==============================] - 3s 4ms/step - loss: 0.0660 - acc: 0.9739 - val_loss: 0.6379 - val_acc: 0.8958\n",
            "Epoch 83/100\n",
            "716/716 [==============================] - 2s 3ms/step - loss: 0.0596 - acc: 0.9769 - val_loss: 0.6664 - val_acc: 0.8909\n",
            "Epoch 84/100\n",
            "716/716 [==============================] - 2s 3ms/step - loss: 0.0634 - acc: 0.9758 - val_loss: 0.6757 - val_acc: 0.8958\n",
            "Epoch 85/100\n",
            "716/716 [==============================] - 2s 3ms/step - loss: 0.0590 - acc: 0.9757 - val_loss: 0.6757 - val_acc: 0.8891\n",
            "Epoch 86/100\n",
            "716/716 [==============================] - 3s 5ms/step - loss: 0.0667 - acc: 0.9740 - val_loss: 0.5631 - val_acc: 0.8890\n",
            "Epoch 87/100\n",
            "716/716 [==============================] - 3s 5ms/step - loss: 0.0578 - acc: 0.9777 - val_loss: 0.6796 - val_acc: 0.8930\n",
            "Epoch 88/100\n",
            "716/716 [==============================] - 2s 3ms/step - loss: 0.0610 - acc: 0.9774 - val_loss: 0.6748 - val_acc: 0.8977\n",
            "Epoch 89/100\n",
            "716/716 [==============================] - 2s 3ms/step - loss: 0.0562 - acc: 0.9771 - val_loss: 0.7364 - val_acc: 0.8953\n",
            "Epoch 90/100\n",
            "716/716 [==============================] - 2s 3ms/step - loss: 0.0562 - acc: 0.9780 - val_loss: 0.7095 - val_acc: 0.8925\n",
            "Epoch 91/100\n",
            "716/716 [==============================] - 2s 3ms/step - loss: 0.0568 - acc: 0.9781 - val_loss: 0.7290 - val_acc: 0.8933\n",
            "Epoch 92/100\n",
            "716/716 [==============================] - 4s 5ms/step - loss: 0.0549 - acc: 0.9781 - val_loss: 0.7551 - val_acc: 0.8939\n",
            "Epoch 93/100\n",
            "716/716 [==============================] - 3s 4ms/step - loss: 0.0579 - acc: 0.9784 - val_loss: 0.6280 - val_acc: 0.8841\n",
            "Epoch 94/100\n",
            "716/716 [==============================] - 2s 3ms/step - loss: 0.0522 - acc: 0.9801 - val_loss: 0.6923 - val_acc: 0.8809\n",
            "Epoch 95/100\n",
            "716/716 [==============================] - 2s 3ms/step - loss: 0.0499 - acc: 0.9805 - val_loss: 0.7518 - val_acc: 0.8933\n",
            "Epoch 96/100\n",
            "716/716 [==============================] - 2s 3ms/step - loss: 0.0525 - acc: 0.9811 - val_loss: 0.7050 - val_acc: 0.8858\n",
            "Epoch 97/100\n",
            "716/716 [==============================] - 3s 5ms/step - loss: 0.0517 - acc: 0.9797 - val_loss: 0.6952 - val_acc: 0.8898\n",
            "Epoch 98/100\n",
            "716/716 [==============================] - 3s 4ms/step - loss: 0.0477 - acc: 0.9823 - val_loss: 0.7559 - val_acc: 0.8975\n",
            "Epoch 99/100\n",
            "716/716 [==============================] - 2s 3ms/step - loss: 0.0538 - acc: 0.9820 - val_loss: 0.7012 - val_acc: 0.8926\n",
            "Epoch 100/100\n",
            "716/716 [==============================] - 2s 3ms/step - loss: 0.0519 - acc: 0.9805 - val_loss: 0.7106 - val_acc: 0.8928\n"
          ]
        }
      ]
    },
    {
      "cell_type": "code",
      "source": [
        "#Checking the loss plot for the training & validation/testing set\n",
        "plt.plot(r.history['loss'], label='loss')\n",
        "plt.plot(r.history['val_loss'], label='val_loss')"
      ],
      "metadata": {
        "colab": {
          "base_uri": "https://localhost:8080/",
          "height": 448
        },
        "id": "ncf9co68kdur",
        "outputId": "dda5ad8d-9f7e-44d8-f49c-104cc783d092"
      },
      "execution_count": null,
      "outputs": [
        {
          "output_type": "execute_result",
          "data": {
            "text/plain": [
              "[<matplotlib.lines.Line2D at 0x7e4a9d494a00>]"
            ]
          },
          "metadata": {},
          "execution_count": 35
        },
        {
          "output_type": "display_data",
          "data": {
            "text/plain": [
              "<Figure size 640x480 with 1 Axes>"
            ],
            "image/png": "[encoded data removed]"
          },
          "metadata": {}
        }
      ]
    },
    {
      "cell_type": "code",
      "source": [
        "#Checking the loss plots for the training & validation/testing set\n",
        "plt.plot(r.history['acc'], label='acc')\n",
        "plt.plot(r.history['val_acc'], label='val_acc')"
      ],
      "metadata": {
        "colab": {
          "base_uri": "https://localhost:8080/",
          "height": 448
        },
        "id": "WOEU0rUXlwQI",
        "outputId": "dfad6bd1-7063-462c-8c6c-7f3dbffffbfc"
      },
      "execution_count": null,
      "outputs": [
        {
          "output_type": "execute_result",
          "data": {
            "text/plain": [
              "[<matplotlib.lines.Line2D at 0x7e4a9d56fcd0>]"
            ]
          },
          "metadata": {},
          "execution_count": 36
        },
        {
          "output_type": "display_data",
          "data": {
            "text/plain": [
              "<Figure size 640x480 with 1 Axes>"
            ],
            "image/png": "[encoded data removed]"
          },
          "metadata": {}
        }
      ]
    },
    {
      "cell_type": "code",
      "source": [
        "T=0.5\n",
        "y_pred = nn_model.predict(X_test)\n",
        "y_pred_bool = y_pred>=T\n",
        "cm = confusion_matrix(y_test, y_pred_bool)\n",
        "print(\" Predicted Label\")\n",
        "print(cm)"
      ],
      "metadata": {
        "colab": {
          "base_uri": "https://localhost:8080/"
        },
        "id": "jylEaIjpuR7c",
        "outputId": "362acb7f-a1db-4cb7-f2d6-fe1a7b30e718"
      },
      "execution_count": null,
      "outputs": [
        {
          "output_type": "stream",
          "name": "stdout",
          "text": [
            "179/179 [==============================] - 0s 2ms/step\n",
            " Predicted Label\n",
            "[[4187  245]\n",
            " [ 369  927]]\n"
          ]
        }
      ]
    },
    {
      "cell_type": "markdown",
      "source": [
        "Looks like we're overfitting our model. Let's add dropout layers to possibly help, and then rerun the whole thing."
      ],
      "metadata": {
        "id": "wWv_8E0nmCGG"
      }
    },
    {
      "cell_type": "code",
      "source": [
        "i = Input(shape=np.shape(X_train)[1])\n",
        "x = Dense(256, activation='relu')(i)\n",
        "x = Dropout(.25)(x)\n",
        "x = Dense(128, activation='relu')(x)\n",
        "x = Dropout(.25)(x)\n",
        "x = Dense(64, activation='relu')(x)\n",
        "x = Dropout(.25)(x)\n",
        "x = Dense(32, activation='relu')(x)\n",
        "x = Dropout(.25)(x)\n",
        "x = Dense(16, activation='relu')(x)\n",
        "x = Dense(1, activation='sigmoid')(x)\n",
        "\n",
        "nn_model2 = Model(i, x)\n",
        "nn_model2.summary()"
      ],
      "metadata": {
        "colab": {
          "base_uri": "https://localhost:8080/"
        },
        "id": "DEETkLuel554",
        "outputId": "266b3fd3-3298-4882-e1d3-265cbf8fca5a"
      },
      "execution_count": null,
      "outputs": [
        {
          "output_type": "stream",
          "name": "stdout",
          "text": [
            "Model: \"model_1\"\n",
            "_________________________________________________________________\n",
            " Layer (type)                Output Shape              Param #   \n",
            "=================================================================\n",
            " input_2 (InputLayer)        [(None, 22)]              0         \n",
            "                                                                 \n",
            " dense_6 (Dense)             (None, 256)               5888      \n",
            "                                                                 \n",
            " dropout (Dropout)           (None, 256)               0         \n",
            "                                                                 \n",
            " dense_7 (Dense)             (None, 128)               32896     \n",
            "                                                                 \n",
            " dropout_1 (Dropout)         (None, 128)               0         \n",
            "                                                                 \n",
            " dense_8 (Dense)             (None, 64)                8256      \n",
            "                                                                 \n",
            " dropout_2 (Dropout)         (None, 64)                0         \n",
            "                                                                 \n",
            " dense_9 (Dense)             (None, 32)                2080      \n",
            "                                                                 \n",
            " dropout_3 (Dropout)         (None, 32)                0         \n",
            "                                                                 \n",
            " dense_10 (Dense)            (None, 16)                528       \n",
            "                                                                 \n",
            " dense_11 (Dense)            (None, 1)                 17        \n",
            "                                                                 \n",
            "=================================================================\n",
            "Total params: 49,665\n",
            "Trainable params: 49,665\n",
            "Non-trainable params: 0\n",
            "_________________________________________________________________\n"
          ]
        }
      ]
    },
    {
      "cell_type": "code",
      "source": [
        "#Compiling & fitting the model\n",
        "nn_model2.compile(optimizer=Adam(learning_rate=0.001),\n",
        "              loss='binary_crossentropy',\n",
        "              metrics = ['acc'])\n",
        "r = nn_model2.fit(X_train, y_train, validation_data=(X_test, y_test), epochs=100)"
      ],
      "metadata": {
        "colab": {
          "base_uri": "https://localhost:8080/"
        },
        "id": "Ydv0iAmrmcy7",
        "outputId": "75a3780d-dc8c-46ed-c059-a4e906acfaed"
      },
      "execution_count": null,
      "outputs": [
        {
          "output_type": "stream",
          "name": "stdout",
          "text": [
            "Epoch 1/100\n",
            "716/716 [==============================] - 5s 4ms/step - loss: 0.3414 - acc: 0.8698 - val_loss: 0.2841 - val_acc: 0.8968\n",
            "Epoch 2/100\n",
            "716/716 [==============================] - 3s 4ms/step - loss: 0.2838 - acc: 0.9004 - val_loss: 0.2792 - val_acc: 0.9000\n",
            "Epoch 3/100\n",
            "716/716 [==============================] - 5s 6ms/step - loss: 0.2692 - acc: 0.9062 - val_loss: 0.2619 - val_acc: 0.9068\n",
            "Epoch 4/100\n",
            "716/716 [==============================] - 3s 4ms/step - loss: 0.2580 - acc: 0.9094 - val_loss: 0.2597 - val_acc: 0.9097\n",
            "Epoch 5/100\n",
            "716/716 [==============================] - 3s 4ms/step - loss: 0.2522 - acc: 0.9138 - val_loss: 0.2577 - val_acc: 0.9113\n",
            "Epoch 6/100\n",
            "716/716 [==============================] - 3s 4ms/step - loss: 0.2454 - acc: 0.9152 - val_loss: 0.2471 - val_acc: 0.9129\n",
            "Epoch 7/100\n",
            "716/716 [==============================] - 4s 5ms/step - loss: 0.2422 - acc: 0.9160 - val_loss: 0.2483 - val_acc: 0.9131\n",
            "Epoch 8/100\n",
            "716/716 [==============================] - 4s 5ms/step - loss: 0.2354 - acc: 0.9189 - val_loss: 0.2467 - val_acc: 0.9141\n",
            "Epoch 9/100\n",
            "716/716 [==============================] - 3s 4ms/step - loss: 0.2345 - acc: 0.9194 - val_loss: 0.2489 - val_acc: 0.9141\n",
            "Epoch 10/100\n",
            "716/716 [==============================] - 3s 4ms/step - loss: 0.2342 - acc: 0.9192 - val_loss: 0.2446 - val_acc: 0.9145\n",
            "Epoch 11/100\n",
            "716/716 [==============================] - 3s 4ms/step - loss: 0.2306 - acc: 0.9214 - val_loss: 0.2441 - val_acc: 0.9164\n",
            "Epoch 12/100\n",
            "716/716 [==============================] - 4s 6ms/step - loss: 0.2300 - acc: 0.9214 - val_loss: 0.2401 - val_acc: 0.9162\n",
            "Epoch 13/100\n",
            "716/716 [==============================] - 3s 4ms/step - loss: 0.2278 - acc: 0.9213 - val_loss: 0.2414 - val_acc: 0.9139\n",
            "Epoch 14/100\n",
            "716/716 [==============================] - 3s 4ms/step - loss: 0.2277 - acc: 0.9218 - val_loss: 0.2412 - val_acc: 0.9174\n",
            "Epoch 15/100\n",
            "716/716 [==============================] - 3s 4ms/step - loss: 0.2239 - acc: 0.9231 - val_loss: 0.2386 - val_acc: 0.9160\n",
            "Epoch 16/100\n",
            "716/716 [==============================] - 3s 4ms/step - loss: 0.2233 - acc: 0.9237 - val_loss: 0.2413 - val_acc: 0.9178\n",
            "Epoch 17/100\n",
            "716/716 [==============================] - 4s 6ms/step - loss: 0.2209 - acc: 0.9243 - val_loss: 0.2395 - val_acc: 0.9160\n",
            "Epoch 18/100\n",
            "716/716 [==============================] - 3s 4ms/step - loss: 0.2220 - acc: 0.9234 - val_loss: 0.2395 - val_acc: 0.9185\n",
            "Epoch 19/100\n",
            "716/716 [==============================] - 3s 4ms/step - loss: 0.2222 - acc: 0.9243 - val_loss: 0.2369 - val_acc: 0.9188\n",
            "Epoch 20/100\n",
            "716/716 [==============================] - 3s 4ms/step - loss: 0.2213 - acc: 0.9238 - val_loss: 0.2416 - val_acc: 0.9153\n",
            "Epoch 21/100\n",
            "716/716 [==============================] - 4s 6ms/step - loss: 0.2171 - acc: 0.9262 - val_loss: 0.2453 - val_acc: 0.9153\n",
            "Epoch 22/100\n",
            "716/716 [==============================] - 3s 5ms/step - loss: 0.2174 - acc: 0.9249 - val_loss: 0.2376 - val_acc: 0.9193\n",
            "Epoch 23/100\n",
            "716/716 [==============================] - 3s 4ms/step - loss: 0.2168 - acc: 0.9258 - val_loss: 0.2380 - val_acc: 0.9185\n",
            "Epoch 24/100\n",
            "716/716 [==============================] - 3s 4ms/step - loss: 0.2139 - acc: 0.9261 - val_loss: 0.2370 - val_acc: 0.9192\n",
            "Epoch 25/100\n",
            "716/716 [==============================] - 4s 6ms/step - loss: 0.2145 - acc: 0.9261 - val_loss: 0.2357 - val_acc: 0.9213\n",
            "Epoch 26/100\n",
            "716/716 [==============================] - 4s 6ms/step - loss: 0.2138 - acc: 0.9274 - val_loss: 0.2414 - val_acc: 0.9178\n",
            "Epoch 27/100\n",
            "716/716 [==============================] - 3s 4ms/step - loss: 0.2163 - acc: 0.9263 - val_loss: 0.2407 - val_acc: 0.9179\n",
            "Epoch 28/100\n",
            "716/716 [==============================] - 3s 4ms/step - loss: 0.2143 - acc: 0.9266 - val_loss: 0.2381 - val_acc: 0.9179\n",
            "Epoch 29/100\n",
            "716/716 [==============================] - 3s 4ms/step - loss: 0.2118 - acc: 0.9282 - val_loss: 0.2372 - val_acc: 0.9179\n",
            "Epoch 30/100\n",
            "716/716 [==============================] - 3s 5ms/step - loss: 0.2103 - acc: 0.9282 - val_loss: 0.2336 - val_acc: 0.9195\n",
            "Epoch 31/100\n",
            "716/716 [==============================] - 4s 6ms/step - loss: 0.2087 - acc: 0.9284 - val_loss: 0.2352 - val_acc: 0.9206\n",
            "Epoch 32/100\n",
            "716/716 [==============================] - 3s 4ms/step - loss: 0.2097 - acc: 0.9283 - val_loss: 0.2355 - val_acc: 0.9204\n",
            "Epoch 33/100\n",
            "716/716 [==============================] - 3s 4ms/step - loss: 0.2104 - acc: 0.9289 - val_loss: 0.2335 - val_acc: 0.9216\n",
            "Epoch 34/100\n",
            "716/716 [==============================] - 7s 9ms/step - loss: 0.2085 - acc: 0.9293 - val_loss: 0.2347 - val_acc: 0.9220\n",
            "Epoch 35/100\n",
            "716/716 [==============================] - 7s 9ms/step - loss: 0.2068 - acc: 0.9294 - val_loss: 0.2313 - val_acc: 0.9223\n",
            "Epoch 36/100\n",
            "716/716 [==============================] - 3s 5ms/step - loss: 0.2058 - acc: 0.9299 - val_loss: 0.2317 - val_acc: 0.9225\n",
            "Epoch 37/100\n",
            "716/716 [==============================] - 3s 5ms/step - loss: 0.2061 - acc: 0.9291 - val_loss: 0.2373 - val_acc: 0.9211\n",
            "Epoch 38/100\n",
            "716/716 [==============================] - 4s 6ms/step - loss: 0.2087 - acc: 0.9278 - val_loss: 0.2351 - val_acc: 0.9199\n",
            "Epoch 39/100\n",
            "716/716 [==============================] - 3s 4ms/step - loss: 0.2041 - acc: 0.9302 - val_loss: 0.2352 - val_acc: 0.9193\n",
            "Epoch 40/100\n",
            "716/716 [==============================] - 3s 4ms/step - loss: 0.2043 - acc: 0.9292 - val_loss: 0.2394 - val_acc: 0.9197\n",
            "Epoch 41/100\n",
            "716/716 [==============================] - 3s 4ms/step - loss: 0.2045 - acc: 0.9294 - val_loss: 0.2373 - val_acc: 0.9199\n",
            "Epoch 42/100\n",
            "716/716 [==============================] - 4s 5ms/step - loss: 0.2061 - acc: 0.9298 - val_loss: 0.2334 - val_acc: 0.9228\n",
            "Epoch 43/100\n",
            "716/716 [==============================] - 3s 5ms/step - loss: 0.2022 - acc: 0.9306 - val_loss: 0.2377 - val_acc: 0.9178\n",
            "Epoch 44/100\n",
            "716/716 [==============================] - 3s 4ms/step - loss: 0.2035 - acc: 0.9296 - val_loss: 0.2358 - val_acc: 0.9195\n",
            "Epoch 45/100\n",
            "716/716 [==============================] - 3s 4ms/step - loss: 0.2020 - acc: 0.9309 - val_loss: 0.2356 - val_acc: 0.9195\n",
            "Epoch 46/100\n",
            "716/716 [==============================] - 3s 4ms/step - loss: 0.2018 - acc: 0.9301 - val_loss: 0.2391 - val_acc: 0.9202\n",
            "Epoch 47/100\n",
            "716/716 [==============================] - 7s 10ms/step - loss: 0.2009 - acc: 0.9311 - val_loss: 0.2357 - val_acc: 0.9206\n",
            "Epoch 48/100\n",
            "716/716 [==============================] - 5s 7ms/step - loss: 0.1994 - acc: 0.9319 - val_loss: 0.2361 - val_acc: 0.9202\n",
            "Epoch 49/100\n",
            "716/716 [==============================] - 4s 5ms/step - loss: 0.2027 - acc: 0.9307 - val_loss: 0.2385 - val_acc: 0.9199\n",
            "Epoch 50/100\n",
            "716/716 [==============================] - 4s 6ms/step - loss: 0.2014 - acc: 0.9313 - val_loss: 0.2360 - val_acc: 0.9197\n",
            "Epoch 51/100\n",
            "716/716 [==============================] - 3s 4ms/step - loss: 0.2023 - acc: 0.9297 - val_loss: 0.2356 - val_acc: 0.9207\n",
            "Epoch 52/100\n",
            "716/716 [==============================] - 3s 4ms/step - loss: 0.1982 - acc: 0.9319 - val_loss: 0.2366 - val_acc: 0.9195\n",
            "Epoch 53/100\n",
            "716/716 [==============================] - 3s 4ms/step - loss: 0.1992 - acc: 0.9324 - val_loss: 0.2369 - val_acc: 0.9214\n",
            "Epoch 54/100\n",
            "716/716 [==============================] - 3s 4ms/step - loss: 0.1990 - acc: 0.9316 - val_loss: 0.2325 - val_acc: 0.9225\n",
            "Epoch 55/100\n",
            "716/716 [==============================] - 4s 5ms/step - loss: 0.1989 - acc: 0.9313 - val_loss: 0.2337 - val_acc: 0.9211\n",
            "Epoch 56/100\n",
            "716/716 [==============================] - 3s 4ms/step - loss: 0.1987 - acc: 0.9322 - val_loss: 0.2347 - val_acc: 0.9213\n",
            "Epoch 57/100\n",
            "716/716 [==============================] - 3s 4ms/step - loss: 0.1955 - acc: 0.9326 - val_loss: 0.2357 - val_acc: 0.9190\n",
            "Epoch 58/100\n",
            "716/716 [==============================] - 3s 4ms/step - loss: 0.1991 - acc: 0.9308 - val_loss: 0.2340 - val_acc: 0.9223\n",
            "Epoch 59/100\n",
            "716/716 [==============================] - 4s 5ms/step - loss: 0.1975 - acc: 0.9328 - val_loss: 0.2390 - val_acc: 0.9207\n",
            "Epoch 60/100\n",
            "716/716 [==============================] - 4s 5ms/step - loss: 0.1974 - acc: 0.9309 - val_loss: 0.2398 - val_acc: 0.9195\n",
            "Epoch 61/100\n",
            "716/716 [==============================] - 3s 4ms/step - loss: 0.1962 - acc: 0.9323 - val_loss: 0.2382 - val_acc: 0.9227\n",
            "Epoch 62/100\n",
            "716/716 [==============================] - 3s 4ms/step - loss: 0.1954 - acc: 0.9327 - val_loss: 0.2356 - val_acc: 0.9211\n",
            "Epoch 63/100\n",
            "716/716 [==============================] - 3s 4ms/step - loss: 0.1963 - acc: 0.9320 - val_loss: 0.2381 - val_acc: 0.9199\n",
            "Epoch 64/100\n",
            "716/716 [==============================] - 5s 7ms/step - loss: 0.1940 - acc: 0.9331 - val_loss: 0.2369 - val_acc: 0.9213\n",
            "Epoch 65/100\n",
            "716/716 [==============================] - 3s 4ms/step - loss: 0.1935 - acc: 0.9335 - val_loss: 0.2366 - val_acc: 0.9207\n",
            "Epoch 66/100\n",
            "716/716 [==============================] - 3s 4ms/step - loss: 0.1946 - acc: 0.9335 - val_loss: 0.2390 - val_acc: 0.9213\n",
            "Epoch 67/100\n",
            "716/716 [==============================] - 3s 4ms/step - loss: 0.1938 - acc: 0.9331 - val_loss: 0.2391 - val_acc: 0.9207\n",
            "Epoch 68/100\n",
            "716/716 [==============================] - 4s 5ms/step - loss: 0.1921 - acc: 0.9335 - val_loss: 0.2418 - val_acc: 0.9200\n",
            "Epoch 69/100\n",
            "716/716 [==============================] - 4s 5ms/step - loss: 0.1917 - acc: 0.9340 - val_loss: 0.2363 - val_acc: 0.9225\n",
            "Epoch 70/100\n",
            "716/716 [==============================] - 3s 4ms/step - loss: 0.1917 - acc: 0.9337 - val_loss: 0.2330 - val_acc: 0.9225\n",
            "Epoch 71/100\n",
            "716/716 [==============================] - 3s 4ms/step - loss: 0.1921 - acc: 0.9344 - val_loss: 0.2358 - val_acc: 0.9207\n",
            "Epoch 72/100\n",
            "716/716 [==============================] - 3s 4ms/step - loss: 0.1899 - acc: 0.9344 - val_loss: 0.2360 - val_acc: 0.9207\n",
            "Epoch 73/100\n",
            "716/716 [==============================] - 4s 6ms/step - loss: 0.1923 - acc: 0.9333 - val_loss: 0.2346 - val_acc: 0.9221\n",
            "Epoch 74/100\n",
            "716/716 [==============================] - 3s 4ms/step - loss: 0.1920 - acc: 0.9354 - val_loss: 0.2336 - val_acc: 0.9227\n",
            "Epoch 75/100\n",
            "716/716 [==============================] - 3s 4ms/step - loss: 0.1890 - acc: 0.9347 - val_loss: 0.2371 - val_acc: 0.9197\n",
            "Epoch 76/100\n",
            "716/716 [==============================] - 3s 4ms/step - loss: 0.1889 - acc: 0.9344 - val_loss: 0.2428 - val_acc: 0.9195\n",
            "Epoch 77/100\n",
            "716/716 [==============================] - 5s 6ms/step - loss: 0.1889 - acc: 0.9345 - val_loss: 0.2392 - val_acc: 0.9220\n",
            "Epoch 78/100\n",
            "716/716 [==============================] - 4s 5ms/step - loss: 0.1920 - acc: 0.9340 - val_loss: 0.2373 - val_acc: 0.9206\n",
            "Epoch 79/100\n",
            "716/716 [==============================] - 3s 4ms/step - loss: 0.1900 - acc: 0.9346 - val_loss: 0.2396 - val_acc: 0.9206\n",
            "Epoch 80/100\n",
            "716/716 [==============================] - 3s 4ms/step - loss: 0.1873 - acc: 0.9344 - val_loss: 0.2395 - val_acc: 0.9230\n",
            "Epoch 81/100\n",
            "716/716 [==============================] - 3s 4ms/step - loss: 0.1872 - acc: 0.9341 - val_loss: 0.2396 - val_acc: 0.9214\n",
            "Epoch 82/100\n",
            "716/716 [==============================] - 4s 6ms/step - loss: 0.1875 - acc: 0.9352 - val_loss: 0.2384 - val_acc: 0.9241\n",
            "Epoch 83/100\n",
            "716/716 [==============================] - 3s 4ms/step - loss: 0.1861 - acc: 0.9350 - val_loss: 0.2385 - val_acc: 0.9228\n",
            "Epoch 84/100\n",
            "716/716 [==============================] - 3s 4ms/step - loss: 0.1873 - acc: 0.9347 - val_loss: 0.2396 - val_acc: 0.9183\n",
            "Epoch 85/100\n",
            "716/716 [==============================] - 3s 4ms/step - loss: 0.1839 - acc: 0.9359 - val_loss: 0.2393 - val_acc: 0.9225\n",
            "Epoch 86/100\n",
            "716/716 [==============================] - 4s 5ms/step - loss: 0.1861 - acc: 0.9333 - val_loss: 0.2413 - val_acc: 0.9216\n",
            "Epoch 87/100\n",
            "716/716 [==============================] - 4s 5ms/step - loss: 0.1872 - acc: 0.9337 - val_loss: 0.2405 - val_acc: 0.9214\n",
            "Epoch 88/100\n",
            "716/716 [==============================] - 3s 4ms/step - loss: 0.1844 - acc: 0.9358 - val_loss: 0.2361 - val_acc: 0.9218\n",
            "Epoch 89/100\n",
            "716/716 [==============================] - 3s 4ms/step - loss: 0.1846 - acc: 0.9351 - val_loss: 0.2426 - val_acc: 0.9223\n",
            "Epoch 90/100\n",
            "716/716 [==============================] - 3s 4ms/step - loss: 0.1834 - acc: 0.9366 - val_loss: 0.2434 - val_acc: 0.9213\n",
            "Epoch 91/100\n",
            "716/716 [==============================] - 4s 6ms/step - loss: 0.1871 - acc: 0.9349 - val_loss: 0.2415 - val_acc: 0.9218\n",
            "Epoch 92/100\n",
            "716/716 [==============================] - 3s 4ms/step - loss: 0.1842 - acc: 0.9358 - val_loss: 0.2408 - val_acc: 0.9218\n",
            "Epoch 93/100\n",
            "716/716 [==============================] - 4s 5ms/step - loss: 0.1817 - acc: 0.9357 - val_loss: 0.2400 - val_acc: 0.9216\n",
            "Epoch 94/100\n",
            "716/716 [==============================] - 4s 5ms/step - loss: 0.1837 - acc: 0.9368 - val_loss: 0.2418 - val_acc: 0.9199\n",
            "Epoch 95/100\n",
            "716/716 [==============================] - 4s 6ms/step - loss: 0.1840 - acc: 0.9351 - val_loss: 0.2418 - val_acc: 0.9218\n",
            "Epoch 96/100\n",
            "716/716 [==============================] - 3s 4ms/step - loss: 0.1850 - acc: 0.9348 - val_loss: 0.2434 - val_acc: 0.9195\n",
            "Epoch 97/100\n",
            "716/716 [==============================] - 3s 4ms/step - loss: 0.1834 - acc: 0.9359 - val_loss: 0.2391 - val_acc: 0.9206\n",
            "Epoch 98/100\n",
            "716/716 [==============================] - 3s 4ms/step - loss: 0.1834 - acc: 0.9344 - val_loss: 0.2412 - val_acc: 0.9214\n",
            "Epoch 99/100\n",
            "716/716 [==============================] - 3s 4ms/step - loss: 0.1844 - acc: 0.9360 - val_loss: 0.2376 - val_acc: 0.9225\n",
            "Epoch 100/100\n",
            "716/716 [==============================] - 4s 6ms/step - loss: 0.1821 - acc: 0.9357 - val_loss: 0.2373 - val_acc: 0.9230\n"
          ]
        }
      ]
    },
    {
      "cell_type": "code",
      "source": [
        "plt.subplot(1, 2, 1)\n",
        "plt.plot(r.history['loss'], label='loss')\n",
        "plt.plot(r.history['val_loss'], label='val_loss')\n",
        "plt.legend()\n",
        "plt.subplot(1, 2, 2)\n",
        "plt.plot(r.history['acc'], label='acc')\n",
        "plt.plot(r.history['val_acc'], label='val_acc')\n",
        "plt.legend()"
      ],
      "metadata": {
        "colab": {
          "base_uri": "https://localhost:8080/",
          "height": 453
        },
        "id": "Pdf5Kwxqmzs1",
        "outputId": "ca9429a7-4159-4084-cee0-3d989604faff"
      },
      "execution_count": null,
      "outputs": [
        {
          "output_type": "execute_result",
          "data": {
            "text/plain": [
              "<matplotlib.legend.Legend at 0x7e4a9d137ac0>"
            ]
          },
          "metadata": {},
          "execution_count": 40
        },
        {
          "output_type": "display_data",
          "data": {
            "text/plain": [
              "<Figure size 640x480 with 2 Axes>"
            ],
            "image/png": "[encoded data removed]"
          },
          "metadata": {}
        }
      ]
    },
    {
      "cell_type": "code",
      "source": [
        "T=0.5\n",
        "y_pred = nn_model2.predict(X_test)\n",
        "y_pred_bool = y_pred>=T\n",
        "cm = confusion_matrix(y_test, y_pred_bool)\n",
        "print(\" Predicted Label\")\n",
        "print(cm)"
      ],
      "metadata": {
        "colab": {
          "base_uri": "https://localhost:8080/"
        },
        "id": "8DViOHyBt9oB",
        "outputId": "15bcd64e-31d2-4991-c3e1-38ef7ab80429"
      },
      "execution_count": null,
      "outputs": [
        {
          "output_type": "stream",
          "name": "stdout",
          "text": [
            "179/179 [==============================] - 0s 1ms/step\n",
            " Predicted Label\n",
            "[[4382   50]\n",
            " [ 391  905]]\n"
          ]
        }
      ]
    },
    {
      "cell_type": "markdown",
      "source": [
        "Looks like we saw an improvement by adding dropout layers, let's see what the model score is"
      ],
      "metadata": {
        "id": "AzxCy9YpuXtL"
      }
    },
    {
      "cell_type": "code",
      "source": [
        "nn_class_score = r.history['val_acc'][-1]\n",
        "print(\"Final accuracy is\", nn_class_score)"
      ],
      "metadata": {
        "colab": {
          "base_uri": "https://localhost:8080/"
        },
        "id": "Fcw7VXjCuIRD",
        "outputId": "901842f8-7a59-40f2-892c-fed513a277b5"
      },
      "execution_count": null,
      "outputs": [
        {
          "output_type": "stream",
          "name": "stdout",
          "text": [
            "Final accuracy is 0.9230097532272339\n"
          ]
        }
      ]
    },
    {
      "cell_type": "markdown",
      "source": [
        "#Comparing model scores"
      ],
      "metadata": {
        "id": "uAsJoSCautot"
      }
    },
    {
      "cell_type": "code",
      "source": [
        "score_list = [logreg_class_score,rf_class_score,nb_class_score, svm_class_score, svmrbf_class_score,\n",
        "              nn_class_score]\n",
        "print(max(score_list))\n",
        "print(score_list.index(max(score_list)))"
      ],
      "metadata": {
        "colab": {
          "base_uri": "https://localhost:8080/"
        },
        "id": "XIkqOPx_ul65",
        "outputId": "df66c9e1-7af3-4e31-fa21-fcf7319f7600"
      },
      "execution_count": null,
      "outputs": [
        {
          "output_type": "stream",
          "name": "stdout",
          "text": [
            "0.928945530726257\n",
            "1\n"
          ]
        }
      ]
    },
    {
      "cell_type": "markdown",
      "source": [
        "Looks like our random forest classifier was the best of the group, with around a 93% accuracy."
      ],
      "metadata": {
        "id": "mV9OT65Tvj0G"
      }
    }
  ]
}